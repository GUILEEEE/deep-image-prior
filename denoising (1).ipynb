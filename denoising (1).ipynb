{
  "metadata": {
    "kernelspec": {
      "display_name": "Python 3",
      "name": "python3"
    },
    "language_info": {
      "name": "python",
      "version": "3.10.13",
      "mimetype": "text/x-python",
      "codemirror_mode": {
        "name": "ipython",
        "version": 3
      },
      "pygments_lexer": "ipython3",
      "nbconvert_exporter": "python",
      "file_extension": ".py"
    },
    "kaggle": {
      "accelerator": "gpu",
      "dataSources": [
        {
          "sourceId": 8776672,
          "sourceType": "datasetVersion",
          "datasetId": 5275137
        }
      ],
      "dockerImageVersionId": 30733,
      "isInternetEnabled": true,
      "language": "python",
      "sourceType": "notebook",
      "isGpuEnabled": true
    },
    "colab": {
      "provenance": [],
      "gpuType": "T4"
    },
    "accelerator": "GPU"
  },
  "nbformat_minor": 0,
  "nbformat": 4,
  "cells": [
    {
      "cell_type": "code",
      "source": [
        "pip install kornia\n"
      ],
      "metadata": {
        "colab": {
          "base_uri": "https://localhost:8080/"
        },
        "id": "G6niW_sjoMWh",
        "outputId": "50db785d-a92a-4cf1-eb08-1a5b7d86bde5"
      },
      "execution_count": 1,
      "outputs": [
        {
          "output_type": "stream",
          "name": "stdout",
          "text": [
            "Collecting kornia\n",
            "  Downloading kornia-0.7.2-py2.py3-none-any.whl (825 kB)\n",
            "\u001b[2K     \u001b[90m━━━━━━━━━━━━━━━━━━━━━━━━━━━━━━━━━━━━━━━━\u001b[0m \u001b[32m825.4/825.4 kB\u001b[0m \u001b[31m7.1 MB/s\u001b[0m eta \u001b[36m0:00:00\u001b[0m\n",
            "\u001b[?25hCollecting kornia-rs>=0.1.0 (from kornia)\n",
            "  Downloading kornia_rs-0.1.3-cp310-cp310-manylinux_2_17_x86_64.manylinux2014_x86_64.whl (2.4 MB)\n",
            "\u001b[2K     \u001b[90m━━━━━━━━━━━━━━━━━━━━━━━━━━━━━━━━━━━━━━━━\u001b[0m \u001b[32m2.4/2.4 MB\u001b[0m \u001b[31m13.6 MB/s\u001b[0m eta \u001b[36m0:00:00\u001b[0m\n",
            "\u001b[?25hRequirement already satisfied: packaging in /usr/local/lib/python3.10/dist-packages (from kornia) (24.1)\n",
            "Requirement already satisfied: torch>=1.9.1 in /usr/local/lib/python3.10/dist-packages (from kornia) (2.3.0+cu121)\n",
            "Requirement already satisfied: filelock in /usr/local/lib/python3.10/dist-packages (from torch>=1.9.1->kornia) (3.15.3)\n",
            "Requirement already satisfied: typing-extensions>=4.8.0 in /usr/local/lib/python3.10/dist-packages (from torch>=1.9.1->kornia) (4.12.2)\n",
            "Requirement already satisfied: sympy in /usr/local/lib/python3.10/dist-packages (from torch>=1.9.1->kornia) (1.12.1)\n",
            "Requirement already satisfied: networkx in /usr/local/lib/python3.10/dist-packages (from torch>=1.9.1->kornia) (3.3)\n",
            "Requirement already satisfied: jinja2 in /usr/local/lib/python3.10/dist-packages (from torch>=1.9.1->kornia) (3.1.4)\n",
            "Requirement already satisfied: fsspec in /usr/local/lib/python3.10/dist-packages (from torch>=1.9.1->kornia) (2023.6.0)\n",
            "Collecting nvidia-cuda-nvrtc-cu12==12.1.105 (from torch>=1.9.1->kornia)\n",
            "  Using cached nvidia_cuda_nvrtc_cu12-12.1.105-py3-none-manylinux1_x86_64.whl (23.7 MB)\n",
            "Collecting nvidia-cuda-runtime-cu12==12.1.105 (from torch>=1.9.1->kornia)\n",
            "  Using cached nvidia_cuda_runtime_cu12-12.1.105-py3-none-manylinux1_x86_64.whl (823 kB)\n",
            "Collecting nvidia-cuda-cupti-cu12==12.1.105 (from torch>=1.9.1->kornia)\n",
            "  Using cached nvidia_cuda_cupti_cu12-12.1.105-py3-none-manylinux1_x86_64.whl (14.1 MB)\n",
            "Collecting nvidia-cudnn-cu12==8.9.2.26 (from torch>=1.9.1->kornia)\n",
            "  Using cached nvidia_cudnn_cu12-8.9.2.26-py3-none-manylinux1_x86_64.whl (731.7 MB)\n",
            "Collecting nvidia-cublas-cu12==12.1.3.1 (from torch>=1.9.1->kornia)\n",
            "  Using cached nvidia_cublas_cu12-12.1.3.1-py3-none-manylinux1_x86_64.whl (410.6 MB)\n",
            "Collecting nvidia-cufft-cu12==11.0.2.54 (from torch>=1.9.1->kornia)\n",
            "  Using cached nvidia_cufft_cu12-11.0.2.54-py3-none-manylinux1_x86_64.whl (121.6 MB)\n",
            "Collecting nvidia-curand-cu12==10.3.2.106 (from torch>=1.9.1->kornia)\n",
            "  Using cached nvidia_curand_cu12-10.3.2.106-py3-none-manylinux1_x86_64.whl (56.5 MB)\n",
            "Collecting nvidia-cusolver-cu12==11.4.5.107 (from torch>=1.9.1->kornia)\n",
            "  Using cached nvidia_cusolver_cu12-11.4.5.107-py3-none-manylinux1_x86_64.whl (124.2 MB)\n",
            "Collecting nvidia-cusparse-cu12==12.1.0.106 (from torch>=1.9.1->kornia)\n",
            "  Using cached nvidia_cusparse_cu12-12.1.0.106-py3-none-manylinux1_x86_64.whl (196.0 MB)\n",
            "Collecting nvidia-nccl-cu12==2.20.5 (from torch>=1.9.1->kornia)\n",
            "  Using cached nvidia_nccl_cu12-2.20.5-py3-none-manylinux2014_x86_64.whl (176.2 MB)\n",
            "Collecting nvidia-nvtx-cu12==12.1.105 (from torch>=1.9.1->kornia)\n",
            "  Using cached nvidia_nvtx_cu12-12.1.105-py3-none-manylinux1_x86_64.whl (99 kB)\n",
            "Requirement already satisfied: triton==2.3.0 in /usr/local/lib/python3.10/dist-packages (from torch>=1.9.1->kornia) (2.3.0)\n",
            "Collecting nvidia-nvjitlink-cu12 (from nvidia-cusolver-cu12==11.4.5.107->torch>=1.9.1->kornia)\n",
            "  Downloading nvidia_nvjitlink_cu12-12.5.40-py3-none-manylinux2014_x86_64.whl (21.3 MB)\n",
            "\u001b[2K     \u001b[90m━━━━━━━━━━━━━━━━━━━━━━━━━━━━━━━━━━━━━━━━\u001b[0m \u001b[32m21.3/21.3 MB\u001b[0m \u001b[31m46.6 MB/s\u001b[0m eta \u001b[36m0:00:00\u001b[0m\n",
            "\u001b[?25hRequirement already satisfied: MarkupSafe>=2.0 in /usr/local/lib/python3.10/dist-packages (from jinja2->torch>=1.9.1->kornia) (2.1.5)\n",
            "Requirement already satisfied: mpmath<1.4.0,>=1.1.0 in /usr/local/lib/python3.10/dist-packages (from sympy->torch>=1.9.1->kornia) (1.3.0)\n",
            "Installing collected packages: nvidia-nvtx-cu12, nvidia-nvjitlink-cu12, nvidia-nccl-cu12, nvidia-curand-cu12, nvidia-cufft-cu12, nvidia-cuda-runtime-cu12, nvidia-cuda-nvrtc-cu12, nvidia-cuda-cupti-cu12, nvidia-cublas-cu12, kornia-rs, nvidia-cusparse-cu12, nvidia-cudnn-cu12, nvidia-cusolver-cu12, kornia\n",
            "Successfully installed kornia-0.7.2 kornia-rs-0.1.3 nvidia-cublas-cu12-12.1.3.1 nvidia-cuda-cupti-cu12-12.1.105 nvidia-cuda-nvrtc-cu12-12.1.105 nvidia-cuda-runtime-cu12-12.1.105 nvidia-cudnn-cu12-8.9.2.26 nvidia-cufft-cu12-11.0.2.54 nvidia-curand-cu12-10.3.2.106 nvidia-cusolver-cu12-11.4.5.107 nvidia-cusparse-cu12-12.1.0.106 nvidia-nccl-cu12-2.20.5 nvidia-nvjitlink-cu12-12.5.40 nvidia-nvtx-cu12-12.1.105\n"
          ]
        }
      ]
    },
    {
      "cell_type": "code",
      "source": [
        "!git clone https://github.com/GUILEEEE/deep-image-prior\n",
        "!mv deep-image-prior/* ./"
      ],
      "metadata": {
        "colab": {
          "base_uri": "https://localhost:8080/"
        },
        "id": "BKyLmGp0qECL",
        "outputId": "bb2b78cb-4652-4b21-80cc-b1c1f5216991"
      },
      "execution_count": 2,
      "outputs": [
        {
          "output_type": "stream",
          "name": "stdout",
          "text": [
            "Cloning into 'deep-image-prior'...\n",
            "remote: Enumerating objects: 303, done.\u001b[K\n",
            "remote: Counting objects: 100% (14/14), done.\u001b[K\n",
            "remote: Compressing objects: 100% (14/14), done.\u001b[K\n",
            "remote: Total 303 (delta 1), reused 5 (delta 0), pack-reused 289\u001b[K\n",
            "Receiving objects: 100% (303/303), 25.11 MiB | 20.04 MiB/s, done.\n",
            "Resolving deltas: 100% (156/156), done.\n"
          ]
        }
      ]
    },
    {
      "cell_type": "code",
      "source": [
        "%%writefile ./denoising_dipvbtvrdorder.py\n",
        "\n",
        "import os\n",
        "import numpy as np\n",
        "import sys\n",
        "#sys.path.insert(1, '/kaggle/input/high-oder-denoising/DIP_HighOrderVBTVDenoising')\n",
        "from models import *\n",
        "from models.vbtv_1 import*\n",
        "from utils.sr_utils import*\n",
        "\n",
        "import torch\n",
        "import torch.optim\n",
        "\n",
        "import kornia\n",
        "\n",
        "from utils.denoising_utils import *\n",
        "#from utils.blur_utils import *\n",
        "from skimage.metrics import peak_signal_noise_ratio as psnr\n",
        "\n",
        "torch.backends.cudnn.enabled = True\n",
        "torch.backends.cudnn.benchmark = True\n",
        "dtype = torch.cuda.FloatTensor\n",
        "\n",
        "imsize = -1\n",
        "enforse_div32 = 'CROP' # we usually need the dimensions to be divisible by a power of two (32 in this case)\n",
        "\n",
        "\n",
        "# Load clean image\n",
        "k=3\n",
        "\n",
        "fname = f'/content/data/denoising/F16_GT.png'\n",
        "img_pil = crop_image(get_image(fname,-1)[0], d=32)\n",
        "img_np = pil_to_np(img_pil)\n",
        "\n",
        "# Load noisy image\n",
        "fname = f'/content/data/denoising/F16_GT.png'\n",
        "img_noisy_pil = crop_image(get_image(fname,-1)[0], d=32)\n",
        "img_noisy_np = pil_to_np(img_noisy_pil)\n",
        "img_noisy_torch = np_to_torch(img_noisy_np).type(dtype)\n",
        "\n",
        "\n",
        "red = torch.narrow(img_noisy_torch,1,0,1) #[1x1xHxW]\n",
        "red = torch.squeeze(red) #[HxW]\n",
        "\n",
        "green = torch.narrow(img_noisy_torch,1,1,1) #[1x1xHxW]\n",
        "green = torch.squeeze(green) #[HxW]\n",
        "\n",
        "blue = torch.narrow(img_noisy_torch,1,2,1) #[1x1xHxW]\n",
        "blue = torch.squeeze(blue) #[HxW]\n",
        "\n",
        "diff_red_x = derivative_central_x_greylevel(red,dtype)     #[HxW]\n",
        "diff_green_x = derivative_central_x_greylevel(green,dtype) #[HxW]\n",
        "diff_blue_x = derivative_central_x_greylevel(blue,dtype)   #[HxW]\n",
        "\n",
        "diff_red_y = derivative_central_y_greylevel(red,dtype)     #[HxW]\n",
        "diff_green_y = derivative_central_y_greylevel(green,dtype) #[HxW]\n",
        "diff_blue_y = derivative_central_y_greylevel(blue,dtype)   #[HxW]\n",
        "\n",
        "diff_red_xx = derivative_xx_greylevel(red,dtype) #[HxW]\n",
        "diff_red_xy = derivative_xy_greylevel(red,dtype) #[HxW]\n",
        "diff_red_yy = derivative_yy_greylevel(red,dtype) #[HxW]\n",
        "\n",
        "diff_green_xx = derivative_xx_greylevel(green,dtype) #[HxW]\n",
        "diff_green_xy = derivative_xy_greylevel(green,dtype) #[HxW]\n",
        "diff_green_yy = derivative_yy_greylevel(green,dtype) #[HxW]\n",
        "\n",
        "diff_blue_xx = derivative_xx_greylevel(blue,dtype) #[HxW]\n",
        "diff_blue_xy = derivative_xy_greylevel(blue,dtype) #[HxW]\n",
        "diff_blue_yy = derivative_yy_greylevel(blue,dtype) #[HxW]\n",
        "\n",
        "diff_red_xxx = derivative_xxx_greylevel(red,dtype) #[HxW]\n",
        "diff_red_xxy = derivative_xxy_greylevel(red,dtype) #[HxW]\n",
        "diff_red_xyy = derivative_xyy_greylevel(red,dtype) #[HxW]\n",
        "diff_red_yyy = derivative_yyy_greylevel(red,dtype) #[HxW]\n",
        "\n",
        "diff_green_xxx = derivative_xxx_greylevel(green,dtype) #[HxW]\n",
        "diff_green_xxy = derivative_xxy_greylevel(green,dtype) #[HxW]\n",
        "diff_green_xyy = derivative_xyy_greylevel(green,dtype) #[HxW]\n",
        "diff_green_yyy = derivative_yyy_greylevel(green,dtype) #[HxW]\n",
        "\n",
        "diff_blue_xxx = derivative_xxx_greylevel(blue,dtype) #[HxW]\n",
        "diff_blue_xxy = derivative_xxy_greylevel(blue,dtype) #[HxW]\n",
        "diff_blue_xyy = derivative_xyy_greylevel(blue,dtype) #[HxW]\n",
        "diff_blue_yyy = derivative_yyy_greylevel(blue,dtype) #[HxW]\n",
        "\n",
        "\n",
        "# Setup\n",
        "INPUT = 'noise'\n",
        "pad = 'reflection'\n",
        "OPT_OVER='net'\n",
        "\n",
        "reg_noise_std = 1./30.\n",
        "LR = 0.01\n",
        "\n",
        "OPTIMIZER = 'adam'\n",
        "exp_weight = 0.99\n",
        "\n",
        "num_iter = 8000\n",
        "input_depth = 32\n",
        "\n",
        "Lambda1 = 0.05\n",
        "Lambda2 = 0.0001\n",
        "Lambda3 = 0.#000001\n",
        "\n",
        "gamma = 0. #1. #gamma=0 for Riemannian and Euclidean quadruplets\n",
        "beta = 3000. #beta=0 for Euclidean quadruplet\n",
        "epsilon = 0.0001\n",
        "\n",
        "maxpsnravg = 0.\n",
        "iter_maxpsnravg=0.\n",
        "psnr_avg_gt = 0.\n",
        "\n",
        "A = np.zeros(num_iter)\n",
        "B = np.zeros(num_iter)\n",
        "\n",
        "c=img_pil.size[1]\n",
        "d=img_pil.size[0]\n",
        "\n",
        "full_net = VectorBundleTotalVariationRplusRplusRplus3rdorderDeblurring(input_depth, pad, red, green, blue, diff_red_x,diff_green_x,diff_blue_x, diff_red_y,diff_green_y,diff_blue_y,diff_red_xx,diff_red_xy,diff_red_yy,diff_green_xx,diff_green_xy,diff_green_yy,diff_blue_xx,diff_blue_xy,diff_blue_yy,diff_red_xxx, diff_red_xxy, diff_red_xyy, diff_red_yyy, diff_green_xxx, diff_green_xxy, diff_green_xyy, diff_green_yyy, diff_blue_xxx, diff_blue_xxy, diff_blue_xyy, diff_blue_yyy, gamma, beta, epsilon, height=c, width=d, upsample_mode='bilinear' ).type(dtype)\n",
        "\n",
        "net_input = get_noise(input_depth, INPUT, (c, d)).type(dtype).detach()\n",
        "\n",
        "# Compute number of parameters\n",
        "s  = sum([np.prod(list(p.size())) for p in full_net.parameters()])\n",
        "\n",
        "# Loss\n",
        "mse = torch.nn.MSELoss().type(dtype)\n",
        "mae = torch.nn.L1Loss().type(dtype)\n",
        "\n",
        "net_input_saved = net_input.detach().clone()\n",
        "noise = net_input.detach().clone()\n",
        "out_img_avg = img_noisy_np\n",
        "\n",
        "i = 0\n",
        "def closure():\n",
        "\n",
        "\tglobal i, exp_weight, out_img_avg, net_input, psnr_avg_gt,maxpsnravg,iter_maxpsnravg, maxpsnravg_image\n",
        "\n",
        "\tnet_input = net_input_saved + (noise.normal_() * reg_noise_std)\n",
        "\n",
        "\tnet_output, regularizer1,regularizer2, regularizer3 = full_net(net_input)\n",
        "\n",
        "\n",
        "\tloss_dataterm = mse(net_output,img_noisy_torch)\n",
        "\tloss_regularizer1 = mae(regularizer1,torch.zeros(1,c,d).type(dtype))\n",
        "\tloss_regularizer2 = mae(regularizer2,torch.zeros(1,c,d).type(dtype))\n",
        "\tloss_regularizer3 = mae(regularizer3,torch.zeros(1,c,d).type(dtype))\n",
        "\n",
        "\ttotal_loss = loss_dataterm + Lambda1*loss_regularizer1+Lambda2*loss_regularizer2+Lambda3*loss_regularizer3\n",
        "\ttotal_loss.backward(retain_graph=True)\n",
        "\n",
        "\tout_img_avg = out_img_avg * exp_weight + net_output.detach().cpu().numpy()[0] * (1 - exp_weight)\n",
        "\tpsnr_avg_gt = psnr(img_np, out_img_avg)\n",
        "\tB[i]=psnr_avg_gt\n",
        "\n",
        "\tif psnr_avg_gt > maxpsnravg:\n",
        "\t\tmaxpsnravg = psnr_avg_gt\n",
        "\t\titer_maxpsnravg = i\n",
        "\t\tmaxpsnravg_image = out_img_avg\n",
        "\n",
        "\t\tprint(iter_maxpsnravg)\n",
        "\t\tprint(maxpsnravg)\n",
        "\n",
        "\tif i==num_iter-1:\n",
        "\t\tprint(\"final PSNR:\", psnr_avg_gt)\n",
        "\n",
        "\ti += 1\n",
        "\n",
        "\treturn total_loss\n",
        "\n",
        "p = get_params(OPT_OVER, full_net, net_input, input_depth)\n",
        "optimize(OPTIMIZER, p, closure, LR, num_iter)\n",
        "\n",
        "out_img_maxpsnr_pil = np_to_pil(maxpsnravg_image)\n",
        "out_img_maxpsnr_pil.save(f'./denoised_kodim{k}_maxpsnravg.png')\n",
        "out_img_avg_pil = np_to_pil(out_img_avg)\n",
        "out_img_avg_pil.save(f'./denoised_kodim{k}.png')\n",
        "np.save(f'./psnr_avg_kodim{k}.npy',B)"
      ],
      "metadata": {
        "_uuid": "8f2839f25d086af736a60e9eeb907d3b93b6e0e5",
        "_cell_guid": "b1076dfc-b9ad-4769-8c92-a6c4dae69d19",
        "execution": {
          "iopub.status.busy": "2024-06-25T00:22:01.351818Z",
          "iopub.execute_input": "2024-06-25T00:22:01.352176Z",
          "iopub.status.idle": "2024-06-25T00:22:01.361784Z",
          "shell.execute_reply.started": "2024-06-25T00:22:01.352146Z",
          "shell.execute_reply": "2024-06-25T00:22:01.360864Z"
        },
        "trusted": true,
        "colab": {
          "base_uri": "https://localhost:8080/"
        },
        "id": "0-wIQM9pnjSS",
        "outputId": "d61f9321-2181-4bd5-f1c6-2849ce53e266"
      },
      "execution_count": 3,
      "outputs": [
        {
          "output_type": "stream",
          "name": "stdout",
          "text": [
            "Writing ./denoising_dipvbtvrdorder.py\n"
          ]
        }
      ]
    },
    {
      "cell_type": "code",
      "source": [
        "!python denoising_dipvbtvrdorder.py"
      ],
      "metadata": {
        "execution": {
          "iopub.status.busy": "2024-06-25T00:22:05.975883Z",
          "iopub.execute_input": "2024-06-25T00:22:05.976224Z",
          "iopub.status.idle": "2024-06-25T00:48:03.573768Z",
          "shell.execute_reply.started": "2024-06-25T00:22:05.976198Z",
          "shell.execute_reply": "2024-06-25T00:48:03.572876Z"
        },
        "trusted": true,
        "colab": {
          "base_uri": "https://localhost:8080/"
        },
        "id": "iPdEHRfRnjSV",
        "outputId": "31f548ee-b04c-4203-846a-5cd46319803a"
      },
      "execution_count": 4,
      "outputs": [
        {
          "output_type": "stream",
          "name": "stdout",
          "text": [
            "Starting optimization with ADAM\n",
            "0\n",
            "51.69663986191965\n",
            "final PSNR: 37.94272404483701\n"
          ]
        }
      ]
    }
  ]
}